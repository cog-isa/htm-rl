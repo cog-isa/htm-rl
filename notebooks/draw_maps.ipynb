{
 "cells": [
  {
   "cell_type": "code",
   "execution_count": 10,
   "id": "4c9cfaf3",
   "metadata": {},
   "outputs": [],
   "source": [
    "from htm_rl.envs.biogwlab.env import BioGwLabEnvironment\n",
    "from htm_rl.agents.htm.configurator import configure"
   ]
  },
  {
   "cell_type": "code",
   "execution_count": 11,
   "id": "708e34d1",
   "metadata": {},
   "outputs": [],
   "source": [
    "import yaml"
   ]
  },
  {
   "cell_type": "code",
   "execution_count": 12,
   "id": "3091b815",
   "metadata": {},
   "outputs": [],
   "source": [
    "default_config_name = 'two_levels_8x8_obs_default.yaml'"
   ]
  },
  {
   "cell_type": "code",
   "execution_count": 13,
   "id": "e17b289f",
   "metadata": {},
   "outputs": [],
   "source": [
    "with open(f'{default_config_name}', 'r') as file:\n",
    "    config = yaml.load(file, Loader=yaml.Loader)"
   ]
  },
  {
   "cell_type": "code",
   "execution_count": 14,
   "id": "4bdd27e2",
   "metadata": {},
   "outputs": [],
   "source": [
    "config = configure(config)"
   ]
  },
  {
   "cell_type": "code",
   "execution_count": 18,
   "id": "000c799f",
   "metadata": {},
   "outputs": [],
   "source": [
    "env_config = config['environment']"
   ]
  },
  {
   "cell_type": "code",
   "execution_count": 43,
   "id": "0a8961c4",
   "metadata": {},
   "outputs": [],
   "source": [
    "env_config['seed'] = 482614"
   ]
  },
  {
   "cell_type": "code",
   "execution_count": 44,
   "id": "a80948d8",
   "metadata": {},
   "outputs": [],
   "source": [
    "env = BioGwLabEnvironment(**config['environment'])"
   ]
  },
  {
   "cell_type": "code",
   "execution_count": 45,
   "id": "76f2139d",
   "metadata": {},
   "outputs": [],
   "source": [
    "map_ = env.callmethod('render_rgb')"
   ]
  },
  {
   "cell_type": "code",
   "execution_count": 46,
   "id": "1beb4ba7",
   "metadata": {},
   "outputs": [],
   "source": [
    "import matplotlib.pyplot as plt"
   ]
  },
  {
   "cell_type": "code",
   "execution_count": 47,
   "id": "1154ae60",
   "metadata": {},
   "outputs": [
    {
     "data": {
      "text/plain": [
       "<matplotlib.image.AxesImage at 0x7fa9f1d67c10>"
      ]
     },
     "execution_count": 47,
     "metadata": {},
     "output_type": "execute_result"
    },
    {
     "data": {
      "image/png": "[encoded data removed]",
      "text/plain": [
       "<Figure size 432x288 with 1 Axes>"
      ]
     },
     "metadata": {
      "needs_background": "light"
     },
     "output_type": "display_data"
    }
   ],
   "source": [
    "plt.imshow(map_[0])"
   ]
  },
  {
   "cell_type": "code",
   "execution_count": null,
   "id": "6243dcdb",
   "metadata": {},
   "outputs": [],
   "source": []
  }
 ],
 "metadata": {
  "kernelspec": {
   "display_name": "Python 3",
   "language": "python",
   "name": "python3"
  },
  "language_info": {
   "codemirror_mode": {
    "name": "ipython",
    "version": 3
   },
   "file_extension": ".py",
   "mimetype": "text/x-python",
   "name": "python",
   "nbconvert_exporter": "python",
   "pygments_lexer": "ipython3",
   "version": "3.9.5"
  }
 },
 "nbformat": 4,
 "nbformat_minor": 5
}
