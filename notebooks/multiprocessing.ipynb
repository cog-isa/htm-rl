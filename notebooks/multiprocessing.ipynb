{
 "cells": [
  {
   "cell_type": "code",
   "execution_count": 1,
   "id": "474d176e",
   "metadata": {},
   "outputs": [],
   "source": [
    "import multiprocessing"
   ]
  },
  {
   "cell_type": "code",
   "execution_count": 2,
   "id": "2cd7b614",
   "metadata": {},
   "outputs": [],
   "source": [
    "from multiprocessing.managers import BaseManager"
   ]
  },
  {
   "cell_type": "code",
   "execution_count": 3,
   "id": "cc269541",
   "metadata": {},
   "outputs": [],
   "source": [
    "from htm.bindings.algorithms import Connections"
   ]
  },
  {
   "cell_type": "code",
   "execution_count": 4,
   "id": "38486f9b",
   "metadata": {},
   "outputs": [],
   "source": [
    "from htm.bindings.sdr import SDR"
   ]
  },
  {
   "cell_type": "code",
   "execution_count": 5,
   "id": "bc6ddf4e",
   "metadata": {},
   "outputs": [],
   "source": [
    "import random"
   ]
  },
  {
   "cell_type": "code",
   "execution_count": 49,
   "id": "20b3143c",
   "metadata": {},
   "outputs": [],
   "source": [
    "def pollute(c, segments_per_cell, synapses_per_segment):\n",
    "    for cell in range(c.numCells()):\n",
    "        for _ in range(segments_per_cell):\n",
    "            seg = c.createSegment(cell, segments_per_cell)\n",
    "            p_cells = random.sample(range(c.numCells()), k=synapses_per_segment)\n",
    "            for p_cell in p_cells:\n",
    "                c.createSynapse(seg, p_cell, 0.0)"
   ]
  },
  {
   "cell_type": "code",
   "execution_count": 50,
   "id": "95154d88",
   "metadata": {},
   "outputs": [],
   "source": [
    "def info(c):\n",
    "    for seg in range(c.numSegments()):\n",
    "        print(f'segment {seg}:')\n",
    "        synapses = c.synapsesForSegment(seg)\n",
    "        for syn in synapses:\n",
    "            print(f'\\t syn {syn}: p: {c.permanenceForSynapse(syn)} p_cell: {c.presynapticCellForSynapse(syn)}')"
   ]
  },
  {
   "cell_type": "code",
   "execution_count": 51,
   "id": "f01181bb",
   "metadata": {},
   "outputs": [],
   "source": [
    "def learn(c, segments, active_cells):\n",
    "    for seg in segments: \n",
    "        c.adaptSegment(seg, active_cells, 0.01, 0.01, False)"
   ]
  },
  {
   "cell_type": "code",
   "execution_count": 52,
   "id": "910151d3",
   "metadata": {},
   "outputs": [],
   "source": [
    "class MyManager(BaseManager):\n",
    "    pass\n",
    "\n",
    "MyManager.register('Connections', Connections)"
   ]
  },
  {
   "cell_type": "code",
   "execution_count": 53,
   "id": "7bccbc5d",
   "metadata": {},
   "outputs": [],
   "source": [
    "def learn_parallel(c, segments, active_cells, n_cores=2):\n",
    "    processes = list()\n",
    "    batch_size = len(segments)//n_cores\n",
    "    for i in range(n_cores):\n",
    "        p = multiprocessing.Process(target=learn, args=(c, segments[batch_size*i: batch_size*(i+1)], active_cells))\n",
    "        p.start()\n",
    "        processes.append(p)\n",
    "\n",
    "    for p in processes:\n",
    "        p.join()"
   ]
  },
  {
   "cell_type": "code",
   "execution_count": 66,
   "id": "b0c8dcf5",
   "metadata": {},
   "outputs": [],
   "source": [
    "c = Connections(5000, 1)\n",
    "pollute(c, 2, 2)\n",
    "# info(c)"
   ]
  },
  {
   "cell_type": "code",
   "execution_count": 67,
   "id": "18ce0b79",
   "metadata": {},
   "outputs": [],
   "source": [
    "segments = list(range(c.segmentFlatListLength()))\n",
    "active_cells = SDR(c.numCells())\n",
    "active_cells.sparse = c.presynapticCellsForSegment(random.randint(0, c.segmentFlatListLength()))"
   ]
  },
  {
   "cell_type": "code",
   "execution_count": 68,
   "id": "fd37f04f",
   "metadata": {},
   "outputs": [
    {
     "name": "stdout",
     "output_type": "stream",
     "text": [
      "CPU times: user 10.5 ms, sys: 44 µs, total: 10.5 ms\n",
      "Wall time: 10.4 ms\n"
     ]
    }
   ],
   "source": [
    "%%time\n",
    "learn(c, segments, active_cells)"
   ]
  },
  {
   "cell_type": "code",
   "execution_count": 73,
   "id": "6a09694b",
   "metadata": {},
   "outputs": [],
   "source": [
    "manager = MyManager()"
   ]
  },
  {
   "cell_type": "code",
   "execution_count": 74,
   "id": "f315bd02",
   "metadata": {},
   "outputs": [],
   "source": [
    "manager.start()"
   ]
  },
  {
   "cell_type": "code",
   "execution_count": 75,
   "id": "0cc2d81a",
   "metadata": {},
   "outputs": [],
   "source": [
    "c = manager.Connections(5000, 1)\n",
    "pollute(c, 2, 2)\n",
    "# info(c)"
   ]
  },
  {
   "cell_type": "code",
   "execution_count": 76,
   "id": "87e58323",
   "metadata": {},
   "outputs": [],
   "source": [
    "segments = list(range(c.segmentFlatListLength()))\n",
    "active_cells = SDR(c.numCells())\n",
    "active_cells.sparse = c.presynapticCellsForSegment(random.randint(0, c.segmentFlatListLength()))"
   ]
  },
  {
   "cell_type": "code",
   "execution_count": 77,
   "id": "df968a59",
   "metadata": {},
   "outputs": [
    {
     "name": "stdout",
     "output_type": "stream",
     "text": [
      "CPU times: user 3.53 ms, sys: 47.5 ms, total: 51.1 ms\n",
      "Wall time: 891 ms\n"
     ]
    }
   ],
   "source": [
    "%%time\n",
    "learn_parallel(c, segments, active_cells, n_cores=4)"
   ]
  },
  {
   "cell_type": "code",
   "execution_count": 78,
   "id": "db1d5f5f",
   "metadata": {},
   "outputs": [],
   "source": [
    "manager.shutdown()"
   ]
  }
 ],
 "metadata": {
  "kernelspec": {
   "display_name": "Python 3",
   "language": "python",
   "name": "python3"
  },
  "language_info": {
   "codemirror_mode": {
    "name": "ipython",
    "version": 3
   },
   "file_extension": ".py",
   "mimetype": "text/x-python",
   "name": "python",
   "nbconvert_exporter": "python",
   "pygments_lexer": "ipython3",
   "version": "3.9.4"
  }
 },
 "nbformat": 4,
 "nbformat_minor": 5
}
