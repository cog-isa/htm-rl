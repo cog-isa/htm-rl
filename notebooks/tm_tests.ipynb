{
 "cells": [
  {
   "cell_type": "code",
   "execution_count": null,
   "metadata": {},
   "outputs": [],
   "source": [
    "import htm"
   ]
  },
  {
   "cell_type": "code",
   "execution_count": null,
   "metadata": {},
   "outputs": [],
   "source": [
    "from htm.bindings.sdr import SDR\n",
    "\n",
    "from htm.algorithms import TemporalMemory as TM\n",
    "\n",
    "import numpy as np"
   ]
  },
  {
   "cell_type": "code",
   "execution_count": null,
   "metadata": {},
   "outputs": [],
   "source": [
    "from htm.algorithms import Connections"
   ]
  },
  {
   "cell_type": "code",
   "execution_count": null,
   "metadata": {},
   "outputs": [],
   "source": [
    "def formatSdr(sdr):\n",
    "    flatten = sdr.dense.any(axis=-1).astype(np.int8)\n",
    "    result = ''\n",
    "    for i in range(flatten.size):\n",
    "        if i > 0 and i % 8 == 0:\n",
    "            result += ' '\n",
    "        result += str(flatten[i])\n",
    "    return result"
   ]
  },
  {
   "cell_type": "code",
   "execution_count": null,
   "metadata": {},
   "outputs": [],
   "source": [
    "bits = 1\n",
    "n_values = 3\n",
    "arraySize = bits*n_values\n",
    "\n",
    "inputSDR = SDR(arraySize)\n",
    "\n",
    "tm = TM(columnDimensions = (inputSDR.size, ),\n",
    "        cellsPerColumn = 2,       # default: 32\n",
    "        minThreshold = bits,         # default: 10\n",
    "        activationThreshold = bits,  # default: 13\n",
    "        initialPermanence = 0.5,\n",
    "        maxNewSynapseCount = bits,\n",
    "        maxSynapsesPerSegment = bits\n",
    "       )\n",
    "\n",
    "cycleArray = [0, 1, 2]"
   ]
  },
  {
   "cell_type": "code",
   "execution_count": null,
   "metadata": {},
   "outputs": [],
   "source": [
    "for sensorValue in cycleArray:\n",
    "    sensorValueBits = inputSDR.dense\n",
    "    sensorValueBits = np.zeros(arraySize)\n",
    "    sensorValueBits[sensorValue*bits:(sensorValue+1)*bits] = 1\n",
    "    inputSDR.dense = sensorValueBits\n",
    "    \n",
    "    tm.compute(inputSDR, learn=True)\n",
    "    print('V:'+ format(sensorValue,'>2') + ' |', formatSdr(tm.getActiveCells()), 'Active')\n",
    "    \n",
    "    tm.activateDendrites(True)\n",
    "    print(format(tm.anomaly, '.2f') + ' |', formatSdr(tm.getPredictiveCells()), 'Predicted')\n",
    "    \n",
    "    for segment in range(tm.connections.numSegments()):\n",
    "        print(f'segment: {segment} synapses: {tm.connections.synapsesForSegment(segment)}')\n",
    "        for synapse in tm.connections.synapsesForSegment(segment):\n",
    "            print(f'synapse: {synapse} -> cell: {tm.connections.presynapticCellForSynapse(synapse)}')"
   ]
  },
  {
   "cell_type": "code",
   "execution_count": null,
   "metadata": {},
   "outputs": [],
   "source": [
    "sensorValue=0\n",
    "sensorValueBits = inputSDR.dense\n",
    "sensorValueBits = np.zeros(arraySize)\n",
    "sensorValueBits[sensorValue*bits:(sensorValue+1)*bits] = 1\n",
    "inputSDR.dense = sensorValueBits\n",
    "tm.compute(inputSDR, learn=True)"
   ]
  },
  {
   "cell_type": "code",
   "execution_count": null,
   "metadata": {},
   "outputs": [],
   "source": [
    "dir(tm.connections)"
   ]
  },
  {
   "cell_type": "code",
   "execution_count": null,
   "metadata": {},
   "outputs": [],
   "source": [
    "connections = tm.connections"
   ]
  },
  {
   "cell_type": "code",
   "execution_count": null,
   "metadata": {},
   "outputs": [],
   "source": [
    "dir(tm)"
   ]
  },
  {
   "cell_type": "code",
   "execution_count": null,
   "metadata": {},
   "outputs": [],
   "source": [
    "connections.bumpSegment?"
   ]
  },
  {
   "cell_type": "code",
   "execution_count": null,
   "metadata": {},
   "outputs": [],
   "source": [
    "tm.connections.numSegments()"
   ]
  },
  {
   "cell_type": "code",
   "execution_count": null,
   "metadata": {},
   "outputs": [],
   "source": [
    "tm.getActiveCells().sparse"
   ]
  },
  {
   "cell_type": "code",
   "execution_count": null,
   "metadata": {},
   "outputs": [],
   "source": [
    "tm.getActiveSegments()"
   ]
  },
  {
   "cell_type": "code",
   "execution_count": null,
   "metadata": {},
   "outputs": [],
   "source": [
    "tm.getMatchingSegments()"
   ]
  },
  {
   "cell_type": "code",
   "execution_count": null,
   "metadata": {},
   "outputs": [],
   "source": [
    "tm.getPredictiveCells().sparse"
   ]
  },
  {
   "cell_type": "code",
   "execution_count": null,
   "metadata": {},
   "outputs": [],
   "source": [
    "tm.getWinnerCells().sparse"
   ]
  },
  {
   "cell_type": "code",
   "execution_count": null,
   "metadata": {},
   "outputs": [],
   "source": [
    "dir(tm.connections)"
   ]
  },
  {
   "cell_type": "code",
   "execution_count": null,
   "metadata": {},
   "outputs": [],
   "source": [
    "tm.connections.idxOnCellForSegment(50)"
   ]
  },
  {
   "cell_type": "code",
   "execution_count": null,
   "metadata": {},
   "outputs": [],
   "source": [
    "tm.connections.permanenceForSynapse(1)"
   ]
  },
  {
   "cell_type": "code",
   "execution_count": null,
   "metadata": {},
   "outputs": [],
   "source": [
    "tm.connections.segmentsForCell(6)"
   ]
  },
  {
   "cell_type": "code",
   "execution_count": null,
   "metadata": {},
   "outputs": [],
   "source": [
    "for segment in range(tm.connections.numSegments()):\n",
    "    print(tm.connections.synapsesForSegment(segment))"
   ]
  },
  {
   "cell_type": "code",
   "execution_count": null,
   "metadata": {},
   "outputs": [],
   "source": [
    "tm.connections.presynapticCellForSynapse(16)"
   ]
  },
  {
   "cell_type": "code",
   "execution_count": null,
   "metadata": {},
   "outputs": [],
   "source": [
    "tm.getActiveCells?"
   ]
  },
  {
   "cell_type": "code",
   "execution_count": null,
   "metadata": {},
   "outputs": [],
   "source": [
    "tm.connections.numSegments()"
   ]
  },
  {
   "cell_type": "code",
   "execution_count": null,
   "metadata": {},
   "outputs": [],
   "source": [
    "def get_prediction_forward(steps, initial_value, tm):\n",
    "    arraySize = 80\n",
    "    inputSDR = SDR(arraySize)\n",
    "    sensorValue = initial_value\n",
    "    sensorValueBits = inputSDR.dense\n",
    "    sensorValueBits = np.zeros(arraySize)\n",
    "    sensorValueBits[sensorValue*8:(sensorValue+1)*8] = 1\n",
    "    inputSDR.dense = sensorValueBits\n",
    "    for k in range(steps):\n",
    "        tm.compute(inputSDR, learn=False)\n",
    "        tm.activateDendrites(False)\n",
    "        inputSDR.dense = tm.getPredictiveCells().dense.any(axis=-1).astype(np.int8)\n",
    "        print('step:'+ format(k+1,'>2') + ' |', formatSdr(tm.getPredictiveCells()))"
   ]
  },
  {
   "cell_type": "code",
   "execution_count": null,
   "metadata": {},
   "outputs": [],
   "source": [
    "get_prediction_forward(10, 2, tm)"
   ]
  },
  {
   "cell_type": "code",
   "execution_count": null,
   "metadata": {},
   "outputs": [],
   "source": [
    "a = tm.getActiveCells().dense"
   ]
  },
  {
   "cell_type": "code",
   "execution_count": null,
   "metadata": {},
   "outputs": [],
   "source": [
    "a"
   ]
  },
  {
   "cell_type": "code",
   "execution_count": null,
   "metadata": {},
   "outputs": [],
   "source": [
    "a.any(axis=-1).astype(np.int8)[80]"
   ]
  },
  {
   "cell_type": "code",
   "execution_count": null,
   "metadata": {},
   "outputs": [],
   "source": []
  }
 ],
 "metadata": {
  "kernelspec": {
   "display_name": "Python 3",
   "language": "python",
   "name": "python3"
  }
 },
 "nbformat": 4,
 "nbformat_minor": 4
}
