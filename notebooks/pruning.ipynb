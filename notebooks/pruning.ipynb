{
 "cells": [
  {
   "cell_type": "code",
   "execution_count": 1,
   "id": "cc269541",
   "metadata": {},
   "outputs": [],
   "source": [
    "from htm.bindings.algorithms import Connections"
   ]
  },
  {
   "cell_type": "code",
   "execution_count": 2,
   "id": "38486f9b",
   "metadata": {},
   "outputs": [],
   "source": [
    "from htm.bindings.sdr import SDR"
   ]
  },
  {
   "cell_type": "code",
   "execution_count": 3,
   "id": "bc6ddf4e",
   "metadata": {},
   "outputs": [],
   "source": [
    "import random"
   ]
  },
  {
   "cell_type": "code",
   "execution_count": 4,
   "id": "20b3143c",
   "metadata": {},
   "outputs": [],
   "source": [
    "def pollute(c, segments_per_cell, synapses_per_segment):\n",
    "    for cell in range(c.numCells()):\n",
    "        for _ in range(segments_per_cell):\n",
    "            seg = c.createSegment(cell, segments_per_cell)\n",
    "            p_cells = random.sample(range(c.numCells()), k=synapses_per_segment)\n",
    "            for p_cell in p_cells:\n",
    "                c.createSynapse(seg, p_cell, 0.0)"
   ]
  },
  {
   "cell_type": "code",
   "execution_count": 5,
   "id": "95154d88",
   "metadata": {},
   "outputs": [],
   "source": [
    "def info(c):\n",
    "    for seg in range(c.numSegments()):\n",
    "        print(f'segment {seg}:')\n",
    "        synapses = c.synapsesForSegment(seg)\n",
    "        for syn in synapses:\n",
    "            print(f'\\t syn {syn}: p: {c.permanenceForSynapse(syn)} p_cell: {c.presynapticCellForSynapse(syn)}')"
   ]
  },
  {
   "cell_type": "code",
   "execution_count": 6,
   "id": "b0c8dcf5",
   "metadata": {},
   "outputs": [
    {
     "name": "stdout",
     "output_type": "stream",
     "text": [
      "segment 0:\n",
      "\t syn 0: p: 0.0 p_cell: 1\n",
      "\t syn 1: p: 0.0 p_cell: 0\n",
      "segment 1:\n",
      "\t syn 2: p: 0.0 p_cell: 3\n",
      "\t syn 3: p: 0.0 p_cell: 4\n",
      "segment 2:\n",
      "\t syn 4: p: 0.0 p_cell: 3\n",
      "\t syn 5: p: 0.0 p_cell: 4\n",
      "segment 3:\n",
      "\t syn 6: p: 0.0 p_cell: 4\n",
      "\t syn 7: p: 0.0 p_cell: 2\n",
      "segment 4:\n",
      "\t syn 8: p: 0.0 p_cell: 4\n",
      "\t syn 9: p: 0.0 p_cell: 0\n",
      "segment 5:\n",
      "\t syn 10: p: 0.0 p_cell: 2\n",
      "\t syn 11: p: 0.0 p_cell: 3\n",
      "segment 6:\n",
      "\t syn 12: p: 0.0 p_cell: 2\n",
      "\t syn 13: p: 0.0 p_cell: 3\n",
      "segment 7:\n",
      "\t syn 14: p: 0.0 p_cell: 0\n",
      "\t syn 15: p: 0.0 p_cell: 3\n",
      "segment 8:\n",
      "\t syn 16: p: 0.0 p_cell: 0\n",
      "\t syn 17: p: 0.0 p_cell: 2\n",
      "segment 9:\n",
      "\t syn 18: p: 0.0 p_cell: 3\n",
      "\t syn 19: p: 0.0 p_cell: 4\n"
     ]
    }
   ],
   "source": [
    "c = Connections(5, 1)\n",
    "pollute(c, 2, 2)\n",
    "info(c)"
   ]
  },
  {
   "cell_type": "code",
   "execution_count": 7,
   "id": "0956b3e9",
   "metadata": {},
   "outputs": [],
   "source": [
    "c.destroySegment(0)"
   ]
  },
  {
   "cell_type": "code",
   "execution_count": 18,
   "id": "bc332a59",
   "metadata": {},
   "outputs": [
    {
     "name": "stdout",
     "output_type": "stream",
     "text": [
      "segment 0:\n",
      "segment 1:\n",
      "\t syn 2: p: 0.0 p_cell: 3\n",
      "\t syn 3: p: 0.0 p_cell: 4\n",
      "segment 2:\n",
      "\t syn 4: p: 0.0 p_cell: 3\n",
      "\t syn 5: p: 0.0 p_cell: 4\n",
      "segment 3:\n",
      "\t syn 6: p: 0.0 p_cell: 4\n",
      "\t syn 7: p: 0.0 p_cell: 2\n",
      "segment 4:\n",
      "\t syn 8: p: 0.0 p_cell: 4\n",
      "\t syn 9: p: 0.0 p_cell: 0\n",
      "segment 5:\n",
      "\t syn 10: p: 0.0 p_cell: 2\n",
      "\t syn 11: p: 0.0 p_cell: 3\n",
      "segment 6:\n",
      "\t syn 12: p: 0.0 p_cell: 2\n",
      "\t syn 13: p: 0.0 p_cell: 3\n",
      "segment 7:\n",
      "\t syn 14: p: 0.0 p_cell: 0\n",
      "\t syn 15: p: 0.0 p_cell: 3\n",
      "segment 8:\n",
      "\t syn 16: p: 0.0 p_cell: 0\n",
      "\t syn 17: p: 0.0 p_cell: 2\n"
     ]
    }
   ],
   "source": [
    "info(c)"
   ]
  },
  {
   "cell_type": "code",
   "execution_count": 14,
   "id": "52949f97",
   "metadata": {},
   "outputs": [
    {
     "data": {
      "text/plain": [
       "9"
      ]
     },
     "execution_count": 14,
     "metadata": {},
     "output_type": "execute_result"
    }
   ],
   "source": [
    "c.numSegments()"
   ]
  },
  {
   "cell_type": "code",
   "execution_count": 15,
   "id": "d18818f3",
   "metadata": {},
   "outputs": [
    {
     "data": {
      "text/plain": [
       "10"
      ]
     },
     "execution_count": 15,
     "metadata": {},
     "output_type": "execute_result"
    }
   ],
   "source": [
    "c.segmentFlatListLength()"
   ]
  },
  {
   "cell_type": "code",
   "execution_count": 16,
   "id": "ee8821d4",
   "metadata": {},
   "outputs": [
    {
     "data": {
      "text/plain": [
       "[3, 4]"
      ]
     },
     "execution_count": 16,
     "metadata": {},
     "output_type": "execute_result"
    }
   ],
   "source": [
    "c.presynapticCellsForSegment(1)"
   ]
  },
  {
   "cell_type": "code",
   "execution_count": 12,
   "id": "3bb251dc",
   "metadata": {},
   "outputs": [
    {
     "data": {
      "text/plain": [
       "(array([0, 0, 0, 0, 0, 0, 0, 0, 0, 0], dtype=uint16),\n",
       " array([0, 0, 0, 0, 0, 0, 0, 0, 0, 0], dtype=uint16))"
      ]
     },
     "execution_count": 12,
     "metadata": {},
     "output_type": "execute_result"
    }
   ],
   "source": [
    "c.computeActivityFull(SDR(5), False)"
   ]
  },
  {
   "cell_type": "code",
   "execution_count": 17,
   "id": "e61638be",
   "metadata": {},
   "outputs": [],
   "source": [
    "c.destroySegment(0)"
   ]
  },
  {
   "cell_type": "code",
   "execution_count": null,
   "id": "c7aa66bb",
   "metadata": {},
   "outputs": [],
   "source": []
  }
 ],
 "metadata": {
  "kernelspec": {
   "display_name": "Python 3",
   "language": "python",
   "name": "python3"
  },
  "language_info": {
   "codemirror_mode": {
    "name": "ipython",
    "version": 3
   },
   "file_extension": ".py",
   "mimetype": "text/x-python",
   "name": "python",
   "nbconvert_exporter": "python",
   "pygments_lexer": "ipython3",
   "version": "3.9.4"
  }
 },
 "nbformat": 4,
 "nbformat_minor": 5
}
