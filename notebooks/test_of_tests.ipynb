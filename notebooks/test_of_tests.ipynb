{
 "cells": [
  {
   "cell_type": "code",
   "execution_count": null,
   "metadata": {},
   "outputs": [],
   "source": [
    "from htm_rl.experimental.experiments import TestRunner, default_parameters\n",
    "from copy import deepcopy\n",
    "from itertools import product"
   ]
  },
  {
   "cell_type": "code",
   "execution_count": null,
   "metadata": {},
   "outputs": [],
   "source": [
    "default_parameters"
   ]
  },
  {
   "cell_type": "code",
   "execution_count": null,
   "metadata": {},
   "outputs": [],
   "source": [
    "test1 = list(product([1, 5], [10], ['HTM'], [1, 2]))"
   ]
  },
  {
   "cell_type": "code",
   "execution_count": null,
   "metadata": {},
   "outputs": [],
   "source": [
    "test1"
   ]
  },
  {
   "cell_type": "code",
   "execution_count": null,
   "metadata": {},
   "outputs": [],
   "source": [
    "test1.append((1, 0, 'HTM', 1))\n",
    "test1.append((1, 0, 'DQN', 1))\n",
    "test1.append((1, 0, 'DQN', 2))"
   ]
  },
  {
   "cell_type": "code",
   "execution_count": null,
   "metadata": {},
   "outputs": [],
   "source": [
    "test1"
   ]
  },
  {
   "cell_type": "code",
   "execution_count": null,
   "metadata": {},
   "outputs": [],
   "source": [
    "for t in test1:\n",
    "    params = deepcopy(default_parameters)\n",
    "    params['run_param']['max_steps'] = 25\n",
    "    params['run_param']['n_episodes'] = 100\n",
    "    params['run_param']['verbosity'] = 0\n",
    "    params['run_param']['pretrain'] = 0\n",
    "    params['shape'] = (3, 3)\n",
    "    params['transit_memory'] = True\n",
    "    params['transit_goals'] = True\n",
    "    params['test_name'] = 'multi_way_3x3'\n",
    "    params['test_dir'] = 'multi_way_3x3'\n",
    "    params['seed'] = 55\n",
    "    params['n_tests'] = 4\n",
    "    params['planner_param']['goal_memory_size'] = t[0]\n",
    "    params['planner_param']['planning_horizon'] = t[1]\n",
    "    params['agent_type'] = t[2]\n",
    "    params['env_param']['window_coords'] = {'top_left': (t[3], -t[3]),\n",
    "                       'bottom_right': (0, t[3])}\n",
    "    tr = TestRunner(params)\n",
    "    tr.run()"
   ]
  },
  {
   "cell_type": "code",
   "execution_count": null,
   "metadata": {},
   "outputs": [],
   "source": [
    "tr.results_processor.aggregate_results([], 'test', True)"
   ]
  },
  {
   "cell_type": "code",
   "execution_count": null,
   "metadata": {},
   "outputs": [],
   "source": [
    "test1 = list(product([1, 5], [10], ['HTM'], [1, 2]))"
   ]
  },
  {
   "cell_type": "code",
   "execution_count": null,
   "metadata": {},
   "outputs": [],
   "source": [
    "test1"
   ]
  },
  {
   "cell_type": "code",
   "execution_count": null,
   "metadata": {},
   "outputs": [],
   "source": [
    "test1.append((1, 0, 'HTM', 1))\n",
    "test1.append((1, 0, 'DQN', 1))\n",
    "test1.append((1, 0, 'DQN', 2))"
   ]
  },
  {
   "cell_type": "code",
   "execution_count": null,
   "metadata": {},
   "outputs": [],
   "source": [
    "test1"
   ]
  },
  {
   "cell_type": "code",
   "execution_count": null,
   "metadata": {},
   "outputs": [],
   "source": [
    "for t in test1:\n",
    "    params = deepcopy(default_parameters)\n",
    "    params['run_param']['max_steps'] = 50\n",
    "    params['run_param']['n_episodes'] = 100\n",
    "    params['run_param']['verbosity'] = 0\n",
    "    params['run_param']['pretrain'] = 0\n",
    "    params['shape'] = (5, 5)\n",
    "    params['transit_memory'] = True\n",
    "    params['transit_goals'] = True\n",
    "    params['test_name'] = 'multi_way_5x5'\n",
    "    params['test_dir'] = 'multi_way_5x5'\n",
    "    params['seed'] = 55\n",
    "    params['n_tests'] = 4\n",
    "    params['planner_param']['goal_memory_size'] = t[0]\n",
    "    params['planner_param']['planning_horizon'] = t[1]\n",
    "    params['agent_type'] = t[2]\n",
    "    params['env_param']['window_coords'] = {'top_left': (t[3], -t[3]),\n",
    "                       'bottom_right': (0, t[3])}\n",
    "    tr = TestRunner(params)\n",
    "    tr.run()"
   ]
  },
  {
   "cell_type": "code",
   "execution_count": null,
   "metadata": {},
   "outputs": [],
   "source": [
    "tr.results_processor.aggregate_results([], 'test', True)"
   ]
  },
  {
   "cell_type": "code",
   "execution_count": null,
   "metadata": {},
   "outputs": [],
   "source": [
    "test1 = list(product([1, 5], [15], ['HTM'], [2, 3]))"
   ]
  },
  {
   "cell_type": "code",
   "execution_count": null,
   "metadata": {},
   "outputs": [],
   "source": [
    "test1"
   ]
  },
  {
   "cell_type": "code",
   "execution_count": null,
   "metadata": {},
   "outputs": [],
   "source": [
    "test1.append((1, 0, 'HTM', 1))\n",
    "test1.append((1, 0, 'DQN', 2))\n",
    "test1.append((1, 0, 'DQN', 3))"
   ]
  },
  {
   "cell_type": "code",
   "execution_count": null,
   "metadata": {},
   "outputs": [],
   "source": [
    "test1"
   ]
  },
  {
   "cell_type": "code",
   "execution_count": null,
   "metadata": {},
   "outputs": [],
   "source": [
    "for t in test1:\n",
    "    params = deepcopy(default_parameters)\n",
    "    params['run_param']['max_steps'] = 100\n",
    "    params['run_param']['n_episodes'] = 200\n",
    "    params['run_param']['verbosity'] = 0\n",
    "    params['run_param']['pretrain'] = 0\n",
    "    params['shape'] = (9, 9)\n",
    "    params['transit_memory'] = True\n",
    "    params['transit_goals'] = True\n",
    "    params['test_name'] = 'multi_way_9x9'\n",
    "    params['test_dir'] = 'multi_way_9x9'\n",
    "    params['seed'] = 55\n",
    "    params['n_tests'] = 4\n",
    "    params['planner_param']['goal_memory_size'] = t[0]\n",
    "    params['planner_param']['planning_horizon'] = t[1]\n",
    "    params['agent_type'] = t[2]\n",
    "    params['env_param']['window_coords'] = {'top_left': (t[3], -t[3]),\n",
    "                       'bottom_right': (0, t[3])}\n",
    "    tr = TestRunner(params)\n",
    "    tr.run()"
   ]
  }
 ],
 "metadata": {
  "kernelspec": {
   "display_name": "Python 3",
   "language": "python",
   "name": "python3"
  }
 },
 "nbformat": 4,
 "nbformat_minor": 1
}
