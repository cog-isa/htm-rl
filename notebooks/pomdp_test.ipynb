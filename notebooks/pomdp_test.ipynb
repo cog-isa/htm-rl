{
 "cells": [
  {
   "cell_type": "code",
   "execution_count": null,
   "metadata": {},
   "outputs": [],
   "source": [
    "from htm_rl.envs.gridworld_pomdp import GridWorld"
   ]
  },
  {
   "cell_type": "code",
   "execution_count": null,
   "metadata": {},
   "outputs": [],
   "source": [
    "world_description = [[2,0,0,0,0],\n",
    "                     [1,1,1,0,0],\n",
    "                     [0,0,0,0,1],\n",
    "                     [1,1,0,0,0],\n",
    "                     [0,0,0,0,0]]\n",
    "\n",
    "world_description2 = [[2,0,0],\n",
    "                     [1,1,0],\n",
    "                     [0,0,0]]"
   ]
  },
  {
   "cell_type": "code",
   "execution_count": null,
   "metadata": {},
   "outputs": [],
   "source": [
    "gw = GridWorld(world_description2, (3, 3), agent_initial_position={'row': 2, 'column': 0},\n",
    "               one_value_state=True, observable_vars=['distance', 'surface'])"
   ]
  },
  {
   "cell_type": "code",
   "execution_count": null,
   "metadata": {},
   "outputs": [],
   "source": [
    "gw.render()"
   ]
  },
  {
   "cell_type": "code",
   "execution_count": null,
   "metadata": {},
   "outputs": [],
   "source": [
    "steps = iter([2, 2, 1, 2, 1, 0, 0, 2, 1, 2, 2, 2, 1, 2, 2, 2, 0, 0, 2, 2, 0, 0])\n",
    "# steps = iter([0, 0, 0, 0, 0, 1, 1, 1, 1, 1])\n",
    "#steps = iter([0, 2, 2, 2, 0, 2, 2, 2, 0, 2, 2, 2, 0, 2, 2, 2, 2, 2, 2])"
   ]
  },
  {
   "cell_type": "code",
   "execution_count": null,
   "metadata": {},
   "outputs": [],
   "source": [
    "gw.reset()"
   ]
  },
  {
   "cell_type": "code",
   "execution_count": null,
   "metadata": {},
   "outputs": [],
   "source": [
    "state = gw.step(next(steps))\n",
    "gw.render()\n",
    "print(state)"
   ]
  },
  {
   "cell_type": "code",
   "execution_count": null,
   "metadata": {},
   "outputs": [],
   "source": [
    "gw._agent_initial_position"
   ]
  }
 ],
 "metadata": {
  "kernelspec": {
   "display_name": "Python 3",
   "language": "python",
   "name": "python3"
  }
 },
 "nbformat": 4,
 "nbformat_minor": 4
}
