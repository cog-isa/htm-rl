{
 "cells": [
  {
   "cell_type": "code",
   "execution_count": 1,
   "id": "d4d7679d",
   "metadata": {},
   "outputs": [],
   "source": [
    "from htm_rl.agents.cc.cortical_column import GeneralFeedbackTM"
   ]
  },
  {
   "cell_type": "code",
   "execution_count": 2,
   "id": "d566621f",
   "metadata": {},
   "outputs": [],
   "source": [
    "import matplotlib.pyplot as plt\n",
    "import seaborn as sns"
   ]
  },
  {
   "cell_type": "code",
   "execution_count": 3,
   "id": "90723e61",
   "metadata": {},
   "outputs": [],
   "source": [
    "config = dict(columns=3, \n",
    "                 cells_per_column=3,\n",
    "                 context_cells=3,\n",
    "                 feedback_cells=3,\n",
    "                 activation_threshold_basal=1,\n",
    "                 learning_threshold_basal=1,\n",
    "                 activation_threshold_apical=1,\n",
    "                 learning_threshold_apical=1,\n",
    "                 connected_threshold_basal=0.5,\n",
    "                 permanence_increment_basal=0.1,\n",
    "                 permanence_decrement_basal=0.01,\n",
    "                 initial_permanence_basal=0.4,\n",
    "                 predicted_segment_decrement_basal=0.001,\n",
    "                 sample_size_basal=-1,\n",
    "                 max_synapses_per_segment_basal=-1,\n",
    "                 max_segments_per_cell_basal=255,\n",
    "                 connected_threshold_apical=0.5,\n",
    "                 permanence_increment_apical=0.1,\n",
    "                 permanence_decrement_apical=0.01,\n",
    "                 initial_permanence_apical=0.4,\n",
    "                 predicted_segment_decrement_apical=0.001,\n",
    "                 sample_size_apical=-1,\n",
    "                 max_synapses_per_segment_apical=-1,\n",
    "                 max_segments_per_cell_apical=255,\n",
    "                 prune_zero_synapses=True,\n",
    "                 timeseries=False,\n",
    "                 anomaly_window=1000,\n",
    "                 confidence_window=1000,\n",
    "                 noise_tolerance=0.0,\n",
    "                 sm_ac=0.99,\n",
    "                 seed=None)"
   ]
  },
  {
   "cell_type": "code",
   "execution_count": 4,
   "id": "507c98c3",
   "metadata": {},
   "outputs": [],
   "source": [
    "def visualize(tm: GeneralFeedbackTM, step: int):\n",
    "    fig, ax = plt.subplots(nrows=3, ncols=2)\n",
    "\n",
    "    sns.heatmap(tm.active_cells_feedback.dense[tm.feedback_range[0]:tm.feedback_range[1]][None], \n",
    "                ax=ax[0, 1], linewidths=.5, cbar=False, xticklabels=False, yticklabels=False, vmin=0, vmax=1.5)\n",
    "    sns.heatmap(tm.active_cells_context.dense[tm.context_range[0]:tm.context_range[1]][None], \n",
    "                ax=ax[1, 0], linewidths=.5, cbar=False, xticklabels=False, yticklabels=False, vmin=0, vmax=1.5)\n",
    "    sns.heatmap((tm.active_cells.dense[tm.local_range[0]:tm.local_range[1]].reshape((-1, tm.columns)).T + \n",
    "                 tm.predicted_cells.dense[tm.local_range[0]:tm.local_range[1]].reshape((-1, tm.columns)).T*0.5),\n",
    "               ax=ax[1, 1], linewidths=.5, cbar=False, xticklabels=False, yticklabels=False, vmin=0, vmax=1.5)\n",
    "    sns.heatmap(tm.active_columns.dense[None],\n",
    "               ax=ax[2, 1], linewidths=.5, cbar=False, xticklabels=False, yticklabels=False, vmin=0, vmax=1.5)\n",
    "\n",
    "    ax[0, 1].set_title('Feedback')\n",
    "    ax[1, 0].set_title('Context')\n",
    "    ax[1, 1].set_title('')\n",
    "    ax[2, 1].set_title('Input')\n",
    "\n",
    "    ax[0, 0].axis('off')\n",
    "    ax[0, 0].text(x=0.5, y=0.5, s=str(tm.anomaly[-1]))\n",
    "    ax[0, 0].set_title('anomaly')\n",
    "    ax[2, 0].axis('off')\n",
    "    ax[2, 0].text(x=0.5, y=0.5, s=str(tm.confidence[-1]))\n",
    "    ax[2, 0].set_title('confidence')\n",
    "    fig.tight_layout(pad=1.0)\n",
    "    fig.suptitle(f'step: {step}')"
   ]
  },
  {
   "cell_type": "code",
   "execution_count": 5,
   "id": "f873fb2b",
   "metadata": {},
   "outputs": [],
   "source": [
    "data = {\n",
    "    'policy1': {'code': [0], 'actions': [([0], [0]), ([1], [1]), ([2], [2])]},\n",
    "    'policy2': {'code': [1], 'actions': [([0], [1]), ([1], [1]), ([2], [0])]},\n",
    "    'policy3': {'code': [2], 'actions': [([0], [2]), ([1], [2]), ([2], [1])]}\n",
    "}"
   ]
  },
  {
   "cell_type": "code",
   "execution_count": 6,
   "id": "805f4305",
   "metadata": {},
   "outputs": [],
   "source": [
    "tm = GeneralFeedbackTM(**config)"
   ]
  },
  {
   "cell_type": "code",
   "execution_count": 7,
   "id": "9a6f08a4",
   "metadata": {},
   "outputs": [],
   "source": [
    "step = 0"
   ]
  },
  {
   "cell_type": "code",
   "execution_count": 16,
   "id": "bea0e0c6",
   "metadata": {},
   "outputs": [
    {
     "data": {
      "image/png": "[encoded data removed]",
      "text/plain": [
       "<Figure size 432x288 with 6 Axes>"
      ]
     },
     "metadata": {
      "needs_background": "light"
     },
     "output_type": "display_data"
    },
    {
     "data": {
      "image/png": "[encoded data removed]",
      "text/plain": [
       "<Figure size 432x288 with 6 Axes>"
      ]
     },
     "metadata": {
      "needs_background": "light"
     },
     "output_type": "display_data"
    },
    {
     "data": {
      "image/png": "[encoded data removed]",
      "text/plain": [
       "<Figure size 432x288 with 6 Axes>"
      ]
     },
     "metadata": {
      "needs_background": "light"
     },
     "output_type": "display_data"
    }
   ],
   "source": [
    "policy = 'policy1'\n",
    "\n",
    "tm.set_active_feedback_cells(data[policy]['code'])\n",
    "\n",
    "for state, action in data[policy]['actions']:\n",
    "    tm.set_active_context_cells(state)\n",
    "    \n",
    "    tm.activate_apical_dendrites(True)\n",
    "    tm.activate_basal_dendrites(True)\n",
    "    tm.predict_cells()\n",
    "    \n",
    "    tm.set_active_columns(action)\n",
    "    tm.activate_cells(True)\n",
    "    \n",
    "    visualize(tm, step)\n",
    "    \n",
    "    step += 1"
   ]
  },
  {
   "cell_type": "code",
   "execution_count": null,
   "id": "207863f9",
   "metadata": {},
   "outputs": [],
   "source": []
  }
 ],
 "metadata": {
  "kernelspec": {
   "display_name": "Python 3",
   "language": "python",
   "name": "python3"
  },
  "language_info": {
   "codemirror_mode": {
    "name": "ipython",
    "version": 3
   },
   "file_extension": ".py",
   "mimetype": "text/x-python",
   "name": "python",
   "nbconvert_exporter": "python",
   "pygments_lexer": "ipython3",
   "version": "3.9.7"
  }
 },
 "nbformat": 4,
 "nbformat_minor": 5
}
