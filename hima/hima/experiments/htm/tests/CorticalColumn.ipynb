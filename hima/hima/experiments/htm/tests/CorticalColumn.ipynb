{
 "cells": [
  {
   "cell_type": "code",
   "execution_count": 1,
   "id": "d4d7679d",
   "metadata": {},
   "outputs": [],
   "source": [
    "from htm_rl.agents.cc.cortical_column import GeneralFeedbackTM"
   ]
  },
  {
   "cell_type": "code",
   "execution_count": 2,
   "id": "454f3c4d",
   "metadata": {},
   "outputs": [],
   "source": [
    "from htm.bindings.sdr import SDR\n",
    "from htm_rl.agents.cc.cortical_column import UnionTemporalPooler\n",
    "import matplotlib.pyplot as plt\n",
    "import seaborn as sns\n",
    "import numpy as np"
   ]
  },
  {
   "cell_type": "code",
   "execution_count": 3,
   "id": "a3552d55",
   "metadata": {},
   "outputs": [],
   "source": [
    "from htm_rl.common.sdr_encoders import IntBucketEncoder"
   ]
  },
  {
   "cell_type": "code",
   "execution_count": 4,
   "id": "a38a74c8",
   "metadata": {},
   "outputs": [],
   "source": [
    "def visualize_tp(tp, h, w, step=0):\n",
    "    sdr = tp.getUnionSDR()\n",
    "    fig = plt.figure()\n",
    "    fig.suptitle(f'step {step}')\n",
    "    sns.heatmap(sdr.dense.reshape((h, w)), vmin=0, vmax=1, cbar=False, linewidths=.5)"
   ]
  },
  {
   "cell_type": "code",
   "execution_count": 5,
   "id": "4979789b",
   "metadata": {},
   "outputs": [],
   "source": [
    "def visualize_tm(tm: GeneralFeedbackTM, feedback_shape=(1, -1), step: int = 0):\n",
    "    fig, ax = plt.subplots(nrows=3, ncols=2)\n",
    "\n",
    "    sns.heatmap(tm.active_cells_feedback.dense[tm.feedback_range[0]:tm.feedback_range[1]].reshape(feedback_shape),\n",
    "                ax=ax[0, 1], linewidths=.5, cbar=False, xticklabels=False, yticklabels=False, vmin=0, vmax=1.5)\n",
    "    sns.heatmap(tm.active_cells_context.dense[tm.context_range[0]:tm.context_range[1]][None],\n",
    "                ax=ax[1, 0], linewidths=.5, cbar=False, xticklabels=False, yticklabels=False, vmin=0, vmax=1.5)\n",
    "    sns.heatmap((tm.active_cells.dense[tm.local_range[0]:tm.local_range[1]].reshape((tm.columns, -1)).T +\n",
    "                 tm.predicted_cells.dense[tm.local_range[0]:tm.local_range[1]].reshape((tm.columns, -1)).T * 0.5),\n",
    "                ax=ax[1, 1], linewidths=.5, cbar=False, xticklabels=False, yticklabels=False, vmin=0, vmax=1.5)\n",
    "    sns.heatmap(tm.active_columns.dense[None],\n",
    "                ax=ax[2, 1], linewidths=.5, cbar=False, xticklabels=False, yticklabels=False, vmin=0, vmax=1.5)\n",
    "\n",
    "    ax[0, 1].set_title('Feedback')\n",
    "    ax[1, 0].set_title('Context')\n",
    "    ax[1, 1].set_title('')\n",
    "    ax[2, 1].set_title('Input')\n",
    "\n",
    "    ax[0, 0].axis('off')\n",
    "    ax[0, 0].text(x=0.5, y=0.5, s=str(tm.anomaly[-1]))\n",
    "    ax[0, 0].set_title('anomaly')\n",
    "    ax[2, 0].axis('off')\n",
    "    ax[2, 0].text(x=0.5, y=0.5, s=str(tm.confidence[-1]))\n",
    "    ax[2, 0].set_title('confidence')\n",
    "    fig.tight_layout(pad=1.0)\n",
    "    fig.suptitle(f'step: {step}')"
   ]
  },
  {
   "cell_type": "code",
   "execution_count": 138,
   "id": "297766e1",
   "metadata": {},
   "outputs": [],
   "source": [
    "n_actions = 4\n",
    "action_bucket = 10\n",
    "n_states = 5\n",
    "state_bucket = 3\n",
    "action_encoder = IntBucketEncoder(n_actions, action_bucket)\n",
    "state_encoder = IntBucketEncoder(n_states, state_bucket)"
   ]
  },
  {
   "cell_type": "code",
   "execution_count": 159,
   "id": "7b2c0594",
   "metadata": {},
   "outputs": [],
   "source": [
    "input_columns = action_encoder.output_sdr_size\n",
    "input_active_cells = action_bucket\n",
    "cells_per_column = 16\n",
    "output_columns = 4000\n",
    "output_active_cells = 40\n",
    "seed = 8543\n",
    "config_tm = dict(columns=input_columns, \n",
    "                 cells_per_column=cells_per_column,\n",
    "                 context_cells=state_encoder.output_sdr_size,\n",
    "                 feedback_cells=output_columns,\n",
    "                 activation_threshold_basal=state_bucket,\n",
    "                 learning_threshold_basal=state_bucket,\n",
    "                 activation_threshold_apical=output_active_cells,\n",
    "                 learning_threshold_apical=output_active_cells,\n",
    "                 connected_threshold_basal=0.5,\n",
    "                 permanence_increment_basal=0.1,\n",
    "                 permanence_decrement_basal=0.01,\n",
    "                 initial_permanence_basal=0.4,\n",
    "                 predicted_segment_decrement_basal=0.001,\n",
    "                 sample_size_basal=state_bucket,\n",
    "                 max_synapses_per_segment_basal=state_bucket,\n",
    "                 max_segments_per_cell_basal=32,\n",
    "                 connected_threshold_apical=0.5,\n",
    "                 permanence_increment_apical=0.1,\n",
    "                 permanence_decrement_apical=0.01,\n",
    "                 initial_permanence_apical=0.4,\n",
    "                 predicted_segment_decrement_apical=0.001,\n",
    "                 sample_size_apical=output_active_cells,\n",
    "                 max_synapses_per_segment_apical=output_active_cells,\n",
    "                 max_segments_per_cell_apical=32,\n",
    "                 prune_zero_synapses=True,\n",
    "                 timeseries=False,\n",
    "                 anomaly_window=1000,\n",
    "                 confidence_window=1000,\n",
    "                 noise_tolerance=0.0,\n",
    "                 sm_ac=0.99,\n",
    "                 seed=seed)\n",
    "config_tp = dict(\n",
    "    output_sparsity=0.01,\n",
    "    n_cortical_columns=1,\n",
    "    cells_per_cortical_column=output_columns,\n",
    "    current_cc_id=0,\n",
    "    activeOverlapWeight=0.5,\n",
    "    predictedActiveOverlapWeight=0.5,\n",
    "    maxUnionActivity=0.5,\n",
    "    exciteFunctionType='Fixed',\n",
    "    decayFunctionType='NoDecay',\n",
    "    decayTimeConst=20.0,\n",
    "    prune_zero_synapses_basal=True,\n",
    "    activation_threshold_basal=output_active_cells,\n",
    "    learning_threshold_basal=output_active_cells,\n",
    "    connected_threshold_basal=0.5,\n",
    "    initial_permanence_basal=0.4,\n",
    "    permanence_increment_basal=0.1,\n",
    "    permanence_decrement_basal=0.01,\n",
    "    sample_size_basal=output_active_cells,\n",
    "    max_synapses_per_segment_basal=output_active_cells,\n",
    "    max_segments_per_cell_basal=32,\n",
    "    timeseries=True,\n",
    "    synPermPredActiveInc=0.1,\n",
    "    synPermPreviousPredActiveInc=0.05,\n",
    "    historyLength=5,\n",
    "    minHistory=5,\n",
    "    boostStrength=0.0,\n",
    "    columnDimensions=[output_columns],\n",
    "    inputDimensions=[input_columns*cells_per_column],\n",
    "    potentialRadius=input_columns*cells_per_column,\n",
    "    dutyCyclePeriod=1000,\n",
    "    globalInhibition=True,\n",
    "    localAreaDensity=0.01,\n",
    "    minPctOverlapDutyCycle=0.001,\n",
    "    numActiveColumnsPerInhArea=0,\n",
    "    potentialPct=0.5,\n",
    "    seed=seed,\n",
    "    spVerbosity=0,\n",
    "    stimulusThreshold=3,\n",
    "    synPermActiveInc=0.1,\n",
    "    synPermConnected=0.5,\n",
    "    synPermInactiveDec=0.01,\n",
    "    wrapAround=True\n",
    ")\n",
    "\n",
    "def run(tm, tp, policy, learn=True, repeat=1, visualize=False):\n",
    "    tp_input = SDR(tp.getNumInputs())\n",
    "    tp_predictive = SDR(tp.getNumInputs())\n",
    "    for _ in range(repeat):\n",
    "        for state, action in policy:\n",
    "            context = state_encoder.encode(state)\n",
    "            active_input = action_encoder.encode(action)\n",
    "            \n",
    "            tm.set_active_feedback_cells(tp.getUnionSDR().sparse)\n",
    "            tm.set_active_context_cells(context)\n",
    "    \n",
    "            tm.activate_apical_dendrites(learn)\n",
    "            tm.activate_basal_dendrites(learn)\n",
    "            tm.predict_cells()\n",
    "\n",
    "            tm.set_active_columns(active_input)\n",
    "            tm.activate_cells(learn)\n",
    "            \n",
    "            if visualize:\n",
    "                visualize_tm(tm, feedback_shape=(40, -1))\n",
    "            \n",
    "            tp_input.sparse = tm.get_active_cells()\n",
    "            tp_predictive.sparse = tm.get_correctly_predicted_cells()\n",
    "            tp.compute(tp_input, tp_predictive, learn, tp.getUnionSDR())\n",
    "            \n",
    "            if visualize:\n",
    "                visualize_tp(tp, 40, -1)\n",
    "\n",
    "def train(tm, tp, data, codes, repeat=5):\n",
    "    for i, p in enumerate(data):\n",
    "        run(tm, tp, p, repeat=repeat, learn=True)\n",
    "        codes[i] = tp.getUnionSDR().dense\n",
    "        tp.reset(boosting=False)\n",
    "        tm.reset()\n",
    "\n",
    "def test(tm, tp, data, codes, threshold):\n",
    "    n_sensations_per_policy = list()\n",
    "    for i, policy in enumerate(data):\n",
    "        n_sensations = 0\n",
    "        for state, action in policy:\n",
    "            run(tm, tp, [(state, action)], learn=False)\n",
    "            n_sensations += 1\n",
    "            overlap = np.dot(codes, tp.getUnionSDR().dense[None].T)\n",
    "            if np.sum(overlap > threshold) == 1:\n",
    "                n_sensations_per_policy.append(n_sensations)\n",
    "                break\n",
    "        else:\n",
    "            n_sensations_per_policy.append(-1)\n",
    "        tp.reset()\n",
    "        tm.reset()\n",
    "    return n_sensations_per_policy"
   ]
  },
  {
   "cell_type": "code",
   "execution_count": 160,
   "id": "dd1895c0",
   "metadata": {},
   "outputs": [],
   "source": [
    "n_policies = 2\n",
    "data = [np.random.randint(0, n_actions, n_states) for _ in range(n_policies)]\n",
    "data = [list(zip(range(n_states), x)) for x in data]"
   ]
  },
  {
   "cell_type": "code",
   "execution_count": 161,
   "id": "810849ce",
   "metadata": {},
   "outputs": [],
   "source": [
    "codes = np.zeros((n_policies, output_columns), dtype='int8')\n",
    "tm = GeneralFeedbackTM(**config_tm)\n",
    "tp = UnionTemporalPooler(**config_tp)"
   ]
  },
  {
   "cell_type": "code",
   "execution_count": 162,
   "id": "11102eaa",
   "metadata": {},
   "outputs": [],
   "source": [
    "train(tm, tp, data, codes, repeat=10)"
   ]
  },
  {
   "cell_type": "code",
   "execution_count": 163,
   "id": "fe12a066",
   "metadata": {},
   "outputs": [],
   "source": [
    "n_sensations = test(tm, tp, data, codes, 30)"
   ]
  },
  {
   "cell_type": "code",
   "execution_count": 164,
   "id": "07058e70",
   "metadata": {},
   "outputs": [
    {
     "data": {
      "text/plain": [
       "[-1, -1]"
      ]
     },
     "execution_count": 164,
     "metadata": {},
     "output_type": "execute_result"
    }
   ],
   "source": [
    "n_sensations"
   ]
  },
  {
   "cell_type": "code",
   "execution_count": null,
   "id": "1a6f843d",
   "metadata": {},
   "outputs": [],
   "source": []
  }
 ],
 "metadata": {
  "kernelspec": {
   "display_name": "Python 3",
   "language": "python",
   "name": "python3"
  },
  "language_info": {
   "codemirror_mode": {
    "name": "ipython",
    "version": 3
   },
   "file_extension": ".py",
   "mimetype": "text/x-python",
   "name": "python",
   "nbconvert_exporter": "python",
   "pygments_lexer": "ipython3",
   "version": "3.9.7"
  }
 },
 "nbformat": 4,
 "nbformat_minor": 5
}
